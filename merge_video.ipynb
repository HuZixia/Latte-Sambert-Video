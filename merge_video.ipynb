{
 "cells": [
  {
   "cell_type": "markdown",
   "id": "5f6418ad",
   "metadata": {},
   "source": [
    "## AI 视频制作\n",
    "\n",
    "### 1. 由文字生成视频 (Latte生成视频) , 详见 latte_video.ipynb\n",
    "\n",
    "### 2. 由文字生成语音 (Sambert个性化语音) , 详见 sambert_audio.ipynb\n",
    "\n",
    "### 3. 视频和语音合成 (带有字幕) , 详见 merge_video.ipynb"
   ]
  },
  {
   "cell_type": "markdown",
   "id": "323bb5ee",
   "metadata": {},
   "source": []
  },
  {
   "cell_type": "code",
   "execution_count": 8,
   "id": "d77a216b",
   "metadata": {
    "ExecuteTime": {
     "end_time": "2024-03-12T11:03:29.074513Z",
     "start_time": "2024-03-12T11:03:28.844205Z"
    }
   },
   "outputs": [],
   "source": [
    "from moviepy.editor import VideoFileClip, AudioFileClip, concatenate_videoclips, TextClip, CompositeVideoClip\n",
    "import os\n",
    "from textwrap import wrap\n",
    "\n",
    "\n",
    "def list_dir(dir_path):\n",
    "    files = []\n",
    "    for file in os.listdir(dir_path):\n",
    "        file_path = os.path.join(dir_path, file)\n",
    "        files.append(file_path)\n",
    "\n",
    "    return files\n",
    "\n",
    "\n",
    "def merge_video(video_dir, audio_dir, output, text_sentences, font='./asserts/SimHei.ttf'):\n",
    "    video_files = sorted(list_dir(video_dir))\n",
    "    audio_files = sorted(list_dir(audio_dir))\n",
    "    final_clips = []\n",
    "\n",
    "\n",
    "    i = 0\n",
    "    chars_per_line = 20\n",
    "\n",
    "\n",
    "    for video_file, audio_file in zip(video_files, audio_files):\n",
    "        video_clip = VideoFileClip(video_file)\n",
    "        audio_clip = AudioFileClip(audio_file)\n",
    "\n",
    "        video_duration = video_clip.duration\n",
    "        audio_duration = audio_clip.duration\n",
    "\n",
    "        wrapped_text = \"\\n\".join(wrap(text_sentences[i], chars_per_line))\n",
    "\n",
    "        txt_clip = TextClip(wrapped_text, fontsize=14, color='white', font=font)\n",
    "        txt_clip = txt_clip.set_position(('center', 'bottom')).set_duration(audio_clip.duration)\n",
    "        i += 1\n",
    "\n",
    "        if video_duration < audio_duration:\n",
    "            n_loops = audio_duration  # video_duration + 1\n",
    "            video_clip = video_clip.loop(n=n_loops)\n",
    "            video_clip = video_clip.subclip(0, audio_duration)\n",
    "\n",
    "        video_clip = video_clip.set_audio(audio_clip)\n",
    "\n",
    "        video_clip = CompositeVideoClip([video_clip, txt_clip])\n",
    "\n",
    "        final_clips.append(video_clip)\n",
    "\n",
    "    final_video = concatenate_videoclips(final_clips)\n",
    "    print(output)\n",
    "\n",
    "    final_video.write_videofile(output, codec='libx264', audio_codec='aac')\n",
    "    "
   ]
  },
  {
   "cell_type": "code",
   "execution_count": 9,
   "id": "2b676ccf08fa4408",
   "metadata": {
    "ExecuteTime": {
     "end_time": "2024-03-12T11:03:39.112187Z",
     "start_time": "2024-03-12T11:03:31.320133Z"
    },
    "collapsed": false
   },
   "outputs": [
    {
     "name": "stdout",
     "output_type": "stream",
     "text": [
      "./data/result/final7.mp4\n",
      "./data/result/final7.mp4\n",
      "Moviepy - Building video ./data/result/final7.mp4.\n",
      "MoviePy - Writing audio in final7TEMP_MPY_wvf_snd.mp4\n"
     ]
    },
    {
     "name": "stderr",
     "output_type": "stream",
     "text": [
      "                                                                      \r"
     ]
    },
    {
     "name": "stdout",
     "output_type": "stream",
     "text": [
      "MoviePy - Done.\n",
      "Moviepy - Writing video ./data/result/final7.mp4\n"
     ]
    },
    {
     "name": "stderr",
     "output_type": "stream",
     "text": [
      "                                                               \r"
     ]
    },
    {
     "name": "stdout",
     "output_type": "stream",
     "text": [
      "Moviepy - Done !\n",
      "Moviepy - video ready ./data/result/final7.mp4\n"
     ]
    }
   ],
   "source": [
    "video_dir = \"./data/video/video_output7\"\n",
    "audio_dir = \"./data/audio/audio_output7\"\n",
    "output = \"./data/result/final7.mp4\"\n",
    "\n",
    "text_list = [\n",
    "\n",
    "    '一条鲜红的鱼优雅地游过,它的鳞片在水中闪闪发光。',\n",
    "    '从另一边,一条翠绿的鱼也加入进来,在水中自在地游动着。',\n",
    "    '第三条金黄色的鱼出现了,它的身体在阳光下熠熠生辉。',\n",
    "    '最后,一条漆黑的鱼也悠闲地游了过来,加入了这个多彩的鱼群。',\n",
    "    '红绿黄黑四条鱼在水中嬉戏玩耍,互相追逐,场面十分热闹有趣。',\n",
    "    '这时,一大群游客来到了水族馆,对面前的景象啧啧称奇。',\n",
    "    '游客们兴奋地拍照录像,捕捉这独一无二的场景。',\n",
    "    '突然，红色的那条鱼跳跃着，远远地向一名小女孩挥动鱼尾巴致意。',\n",
    "    '小女孩开心极了,向红色的小鱼挥手回应,两者有了一段有趣的互动。',\n",
    "    '整个水族馆里洋溢着快乐的氛围,游客和鱼儿共同创造了一个独特而难忘的时刻。',\n",
    "\n",
    "]\n",
    "print(output)\n",
    "merge_video(video_dir, audio_dir, output, text_list)"
   ]
  },
  {
   "cell_type": "code",
   "execution_count": 10,
   "id": "b9a9ce6e16dd13f5",
   "metadata": {
    "ExecuteTime": {
     "end_time": "2024-03-12T11:04:16.519841Z",
     "start_time": "2024-03-12T11:04:06.188546Z"
    },
    "collapsed": false
   },
   "outputs": [
    {
     "name": "stdout",
     "output_type": "stream",
     "text": [
      "./data/result/final9.mp4\n",
      "./data/result/final9.mp4\n",
      "Moviepy - Building video ./data/result/final9.mp4.\n",
      "MoviePy - Writing audio in final9TEMP_MPY_wvf_snd.mp4\n"
     ]
    },
    {
     "name": "stderr",
     "output_type": "stream",
     "text": [
      "                                                                      \r"
     ]
    },
    {
     "name": "stdout",
     "output_type": "stream",
     "text": [
      "MoviePy - Done.\n",
      "Moviepy - Writing video ./data/result/final9.mp4\n"
     ]
    },
    {
     "name": "stderr",
     "output_type": "stream",
     "text": [
      "                                                               \r"
     ]
    },
    {
     "name": "stdout",
     "output_type": "stream",
     "text": [
      "Moviepy - Done !\n",
      "Moviepy - video ready ./data/result/final9.mp4\n"
     ]
    }
   ],
   "source": [
    "video_dir = \"./data/video/video_output9\"\n",
    "audio_dir = \"./data/audio/audio_output9\"\n",
    "output = \"./data/result/final9.mp4\"\n",
    "\n",
    "text_list = [\n",
    "\n",
    "    '阳光透过树叶的缝隙洒在波光粼粼的水面上，一条红色的鱼悠然游过，留下一串波纹。',\n",
    "    '一条绿色的鱼从水草丛中游出，随着它的动作，水草轻轻摇曳，阳光照射下显得格外生动。',\n",
    "    '随即，一条黄色的鱼从水底快速游过，其黄色鳞片在光线下闪耀着金黄色的光芒。',\n",
    "    '紧接着，一条神秘的黑色鱼悄无声息地出现，它的身影在水中忽隐忽现，仿佛守护着这片秘境。',\n",
    "    '红色、绿色、黄色和黑色的鱼开始环绕游动，它们似乎在进行一场优雅的水下舞蹈。',\n",
    "    '此时，一群游客看着五颜六色的鱼群，手持相机和手机，兴奋地记录下这难得一见的景象。',\n",
    "    '其中一名小女孩蹲下身子，伸手试图触摸正在水面嬉戏的鱼，脸上露出开心的笑容。',\n",
    "    '突然，红色的鱼跃出水面，好像在回应那位游客，空中完成一个优雅的弧线，又轻巧落回水中。',\n",
    "    '其他游客见状纷纷欢呼起来，有的还尝试模仿那位互动游客的动作，希望能引起鱼儿的注意。',\n",
    "    '整个湖面和观看的人群，从大地到天空，都是一片欢乐和谐的气氛。',\n",
    "\n",
    "]\n",
    "print(output)\n",
    "merge_video(video_dir, audio_dir, output, text_list)"
   ]
  },
  {
   "cell_type": "code",
   "execution_count": null,
   "id": "b9646503852fe0cd",
   "metadata": {
    "collapsed": false
   },
   "outputs": [],
   "source": []
  }
 ],
 "metadata": {
  "kernelspec": {
   "display_name": "Python 3 (ipykernel)",
   "language": "python",
   "name": "python3"
  },
  "language_info": {
   "codemirror_mode": {
    "name": "ipython",
    "version": 3
   },
   "file_extension": ".py",
   "mimetype": "text/x-python",
   "name": "python",
   "nbconvert_exporter": "python",
   "pygments_lexer": "ipython3",
   "version": "3.10.13"
  }
 },
 "nbformat": 4,
 "nbformat_minor": 5
}

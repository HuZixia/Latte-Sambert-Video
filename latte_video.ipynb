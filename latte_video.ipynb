{
 "cells": [
  {
   "cell_type": "markdown",
   "id": "787f32e7",
   "metadata": {},
   "source": [
    "\n",
    "### Sora 技术栈解读： https://zhuanlan.zhihu.com/p/686141310\n",
    "\n",
    "#### 论文： Latte: Latent Diffusion Transformer for Video Generation\n",
    "#### 链接： https://arxiv.org/abs/2401.03048v1"
   ]
  },
  {
   "cell_type": "code",
   "execution_count": 1,
   "id": "141ee5f6-cf2b-4718-8d7b-4ce58c4c61f3",
   "metadata": {
    "execution": {
     "iopub.execute_input": "2024-03-11T07:30:51.604462Z",
     "iopub.status.busy": "2024-03-11T07:30:51.604157Z",
     "iopub.status.idle": "2024-03-11T07:30:53.931810Z",
     "shell.execute_reply": "2024-03-11T07:30:53.931281Z",
     "shell.execute_reply.started": "2024-03-11T07:30:51.604431Z"
    },
    "tags": []
   },
   "outputs": [
    {
     "name": "stdout",
     "output_type": "stream",
     "text": [
      "正克隆到 'Latte'...\n",
      "remote: Enumerating objects: 324, done.\u001b[K\n",
      "remote: Counting objects: 100% (45/45), done.\u001b[K\n",
      "remote: Compressing objects: 100% (30/30), done.\u001b[K\n",
      "remote: Total 324 (delta 22), reused 30 (delta 13), pack-reused 279\u001b[K\n",
      "接收对象中: 100% (324/324), 256.48 KiB | 358.00 KiB/s, 完成.\n",
      "处理 delta 中: 100% (175/175), 完成.\n",
      "/mnt/workspace/Latte\n"
     ]
    }
   ],
   "source": [
    "!git clone https://github.com/maxin-cn/Latte.git\n",
    "%cd Latte"
   ]
  },
  {
   "cell_type": "code",
   "execution_count": 2,
   "id": "99488663-17e7-400c-b8de-fd19624c0815",
   "metadata": {
    "execution": {
     "iopub.execute_input": "2024-03-11T07:30:57.788091Z",
     "iopub.status.busy": "2024-03-11T07:30:57.787755Z",
     "iopub.status.idle": "2024-03-11T07:31:16.655241Z",
     "shell.execute_reply": "2024-03-11T07:31:16.654383Z",
     "shell.execute_reply.started": "2024-03-11T07:30:57.788073Z"
    },
    "tags": []
   },
   "outputs": [
    {
     "name": "stdout",
     "output_type": "stream",
     "text": [
      "Looking in indexes: https://mirrors.aliyun.com/pypi/simple\n",
      "Requirement already satisfied: timm in /opt/conda/lib/python3.10/site-packages (0.5.4)\n",
      "Requirement already satisfied: torch>=1.4 in /opt/conda/lib/python3.10/site-packages (from timm) (2.1.2+cu121)\n",
      "Requirement already satisfied: torchvision in /opt/conda/lib/python3.10/site-packages (from timm) (0.16.2+cu121)\n",
      "Requirement already satisfied: filelock in /opt/conda/lib/python3.10/site-packages (from torch>=1.4->timm) (3.13.1)\n",
      "Requirement already satisfied: typing-extensions in /opt/conda/lib/python3.10/site-packages (from torch>=1.4->timm) (4.9.0)\n",
      "Requirement already satisfied: sympy in /opt/conda/lib/python3.10/site-packages (from torch>=1.4->timm) (1.12)\n",
      "Requirement already satisfied: networkx in /opt/conda/lib/python3.10/site-packages (from torch>=1.4->timm) (2.8.4)\n",
      "Requirement already satisfied: jinja2 in /opt/conda/lib/python3.10/site-packages (from torch>=1.4->timm) (3.1.2)\n",
      "Requirement already satisfied: fsspec in /opt/conda/lib/python3.10/site-packages (from torch>=1.4->timm) (2023.10.0)\n",
      "Requirement already satisfied: triton==2.1.0 in /opt/conda/lib/python3.10/site-packages (from torch>=1.4->timm) (2.1.0)\n",
      "Requirement already satisfied: numpy in /opt/conda/lib/python3.10/site-packages (from torchvision->timm) (1.26.3)\n",
      "Requirement already satisfied: requests in /opt/conda/lib/python3.10/site-packages (from torchvision->timm) (2.31.0)\n",
      "Requirement already satisfied: pillow!=8.3.*,>=5.3.0 in /opt/conda/lib/python3.10/site-packages (from torchvision->timm) (10.2.0)\n",
      "Requirement already satisfied: MarkupSafe>=2.0 in /opt/conda/lib/python3.10/site-packages (from jinja2->torch>=1.4->timm) (2.1.3)\n",
      "Requirement already satisfied: charset-normalizer<4,>=2 in /opt/conda/lib/python3.10/site-packages (from requests->torchvision->timm) (2.0.4)\n",
      "Requirement already satisfied: idna<4,>=2.5 in /opt/conda/lib/python3.10/site-packages (from requests->torchvision->timm) (3.4)\n",
      "Requirement already satisfied: urllib3<3,>=1.21.1 in /opt/conda/lib/python3.10/site-packages (from requests->torchvision->timm) (1.26.16)\n",
      "Requirement already satisfied: certifi>=2017.4.17 in /opt/conda/lib/python3.10/site-packages (from requests->torchvision->timm) (2023.11.17)\n",
      "Requirement already satisfied: mpmath>=0.19 in /opt/conda/lib/python3.10/site-packages (from sympy->torch>=1.4->timm) (1.3.0)\n",
      "\u001b[33mDEPRECATION: pytorch-lightning 1.7.7 has a non-standard dependency specifier torch>=1.9.*. pip 24.0 will enforce this behaviour change. A possible replacement is to upgrade to a newer version of pytorch-lightning or contact the author to suggest that they release a version with a conforming dependency specifiers. Discussion can be found at https://github.com/pypa/pip/issues/12063\u001b[0m\u001b[33m\n",
      "\u001b[0m\u001b[33mWARNING: Running pip as the 'root' user can result in broken permissions and conflicting behaviour with the system package manager. It is recommended to use a virtual environment instead: https://pip.pypa.io/warnings/venv\u001b[0m\u001b[33m\n",
      "\u001b[0m\n",
      "\u001b[1m[\u001b[0m\u001b[34;49mnotice\u001b[0m\u001b[1;39;49m]\u001b[0m\u001b[39;49m A new release of pip is available: \u001b[0m\u001b[31;49m23.3.2\u001b[0m\u001b[39;49m -> \u001b[0m\u001b[32;49m24.0\u001b[0m\n",
      "\u001b[1m[\u001b[0m\u001b[34;49mnotice\u001b[0m\u001b[1;39;49m]\u001b[0m\u001b[39;49m To update, run: \u001b[0m\u001b[32;49mpip install --upgrade pip\u001b[0m\n",
      "Looking in indexes: https://mirrors.aliyun.com/pypi/simple\n",
      "Requirement already satisfied: einops in /opt/conda/lib/python3.10/site-packages (0.7.0)\n",
      "\u001b[33mDEPRECATION: pytorch-lightning 1.7.7 has a non-standard dependency specifier torch>=1.9.*. pip 24.0 will enforce this behaviour change. A possible replacement is to upgrade to a newer version of pytorch-lightning or contact the author to suggest that they release a version with a conforming dependency specifiers. Discussion can be found at https://github.com/pypa/pip/issues/12063\u001b[0m\u001b[33m\n",
      "\u001b[0m\u001b[33mWARNING: Running pip as the 'root' user can result in broken permissions and conflicting behaviour with the system package manager. It is recommended to use a virtual environment instead: https://pip.pypa.io/warnings/venv\u001b[0m\u001b[33m\n",
      "\u001b[0m\n",
      "\u001b[1m[\u001b[0m\u001b[34;49mnotice\u001b[0m\u001b[1;39;49m]\u001b[0m\u001b[39;49m A new release of pip is available: \u001b[0m\u001b[31;49m23.3.2\u001b[0m\u001b[39;49m -> \u001b[0m\u001b[32;49m24.0\u001b[0m\n",
      "\u001b[1m[\u001b[0m\u001b[34;49mnotice\u001b[0m\u001b[1;39;49m]\u001b[0m\u001b[39;49m To update, run: \u001b[0m\u001b[32;49mpip install --upgrade pip\u001b[0m\n",
      "Looking in indexes: https://mirrors.aliyun.com/pypi/simple\n",
      "Requirement already satisfied: omegaconf in /opt/conda/lib/python3.10/site-packages (2.3.0)\n",
      "Requirement already satisfied: antlr4-python3-runtime==4.9.* in /opt/conda/lib/python3.10/site-packages (from omegaconf) (4.9.3)\n",
      "Requirement already satisfied: PyYAML>=5.1.0 in /opt/conda/lib/python3.10/site-packages (from omegaconf) (6.0.1)\n",
      "\u001b[33mDEPRECATION: pytorch-lightning 1.7.7 has a non-standard dependency specifier torch>=1.9.*. pip 24.0 will enforce this behaviour change. A possible replacement is to upgrade to a newer version of pytorch-lightning or contact the author to suggest that they release a version with a conforming dependency specifiers. Discussion can be found at https://github.com/pypa/pip/issues/12063\u001b[0m\u001b[33m\n",
      "\u001b[0m\u001b[33mWARNING: Running pip as the 'root' user can result in broken permissions and conflicting behaviour with the system package manager. It is recommended to use a virtual environment instead: https://pip.pypa.io/warnings/venv\u001b[0m\u001b[33m\n",
      "\u001b[0m\n",
      "\u001b[1m[\u001b[0m\u001b[34;49mnotice\u001b[0m\u001b[1;39;49m]\u001b[0m\u001b[39;49m A new release of pip is available: \u001b[0m\u001b[31;49m23.3.2\u001b[0m\u001b[39;49m -> \u001b[0m\u001b[32;49m24.0\u001b[0m\n",
      "\u001b[1m[\u001b[0m\u001b[34;49mnotice\u001b[0m\u001b[1;39;49m]\u001b[0m\u001b[39;49m To update, run: \u001b[0m\u001b[32;49mpip install --upgrade pip\u001b[0m\n",
      "Looking in indexes: https://mirrors.aliyun.com/pypi/simple\n",
      "Collecting diffusers==0.24.0\n",
      "  Downloading https://mirrors.aliyun.com/pypi/packages/dc/92/b17949ff6b634bfb93e12ff8753288d6c59edf4366cc5c501377e6373e0c/diffusers-0.24.0-py3-none-any.whl (1.8 MB)\n",
      "\u001b[2K     \u001b[90m━━━━━━━━━━━━━━━━━━━━━━━━━━━━━━━━━━━━━━━━\u001b[0m \u001b[32m1.8/1.8 MB\u001b[0m \u001b[31m550.7 kB/s\u001b[0m eta \u001b[36m0:00:00\u001b[0m00:01\u001b[0m00:01\u001b[0m\n",
      "\u001b[?25hRequirement already satisfied: Pillow in /opt/conda/lib/python3.10/site-packages (from diffusers==0.24.0) (10.2.0)\n",
      "Requirement already satisfied: filelock in /opt/conda/lib/python3.10/site-packages (from diffusers==0.24.0) (3.13.1)\n",
      "Requirement already satisfied: huggingface-hub>=0.19.4 in /opt/conda/lib/python3.10/site-packages (from diffusers==0.24.0) (0.20.3)\n",
      "Requirement already satisfied: importlib-metadata in /opt/conda/lib/python3.10/site-packages (from diffusers==0.24.0) (7.0.1)\n",
      "Requirement already satisfied: numpy in /opt/conda/lib/python3.10/site-packages (from diffusers==0.24.0) (1.26.3)\n",
      "Requirement already satisfied: regex!=2019.12.17 in /opt/conda/lib/python3.10/site-packages (from diffusers==0.24.0) (2023.12.25)\n",
      "Requirement already satisfied: requests in /opt/conda/lib/python3.10/site-packages (from diffusers==0.24.0) (2.31.0)\n",
      "Requirement already satisfied: safetensors>=0.3.1 in /opt/conda/lib/python3.10/site-packages (from diffusers==0.24.0) (0.4.1)\n",
      "Requirement already satisfied: fsspec>=2023.5.0 in /opt/conda/lib/python3.10/site-packages (from huggingface-hub>=0.19.4->diffusers==0.24.0) (2023.10.0)\n",
      "Requirement already satisfied: tqdm>=4.42.1 in /opt/conda/lib/python3.10/site-packages (from huggingface-hub>=0.19.4->diffusers==0.24.0) (4.65.0)\n",
      "Requirement already satisfied: pyyaml>=5.1 in /opt/conda/lib/python3.10/site-packages (from huggingface-hub>=0.19.4->diffusers==0.24.0) (6.0.1)\n",
      "Requirement already satisfied: typing-extensions>=3.7.4.3 in /opt/conda/lib/python3.10/site-packages (from huggingface-hub>=0.19.4->diffusers==0.24.0) (4.9.0)\n",
      "Requirement already satisfied: packaging>=20.9 in /opt/conda/lib/python3.10/site-packages (from huggingface-hub>=0.19.4->diffusers==0.24.0) (23.1)\n",
      "Requirement already satisfied: zipp>=0.5 in /opt/conda/lib/python3.10/site-packages (from importlib-metadata->diffusers==0.24.0) (3.17.0)\n",
      "Requirement already satisfied: charset-normalizer<4,>=2 in /opt/conda/lib/python3.10/site-packages (from requests->diffusers==0.24.0) (2.0.4)\n",
      "Requirement already satisfied: idna<4,>=2.5 in /opt/conda/lib/python3.10/site-packages (from requests->diffusers==0.24.0) (3.4)\n",
      "Requirement already satisfied: urllib3<3,>=1.21.1 in /opt/conda/lib/python3.10/site-packages (from requests->diffusers==0.24.0) (1.26.16)\n",
      "Requirement already satisfied: certifi>=2017.4.17 in /opt/conda/lib/python3.10/site-packages (from requests->diffusers==0.24.0) (2023.11.17)\n",
      "\u001b[33mDEPRECATION: pytorch-lightning 1.7.7 has a non-standard dependency specifier torch>=1.9.*. pip 24.0 will enforce this behaviour change. A possible replacement is to upgrade to a newer version of pytorch-lightning or contact the author to suggest that they release a version with a conforming dependency specifiers. Discussion can be found at https://github.com/pypa/pip/issues/12063\u001b[0m\u001b[33m\n",
      "\u001b[0mInstalling collected packages: diffusers\n",
      "  Attempting uninstall: diffusers\n",
      "    Found existing installation: diffusers 0.26.0\n",
      "    Uninstalling diffusers-0.26.0:\n",
      "      Successfully uninstalled diffusers-0.26.0\n",
      "Successfully installed diffusers-0.24.0\n",
      "\u001b[33mWARNING: Running pip as the 'root' user can result in broken permissions and conflicting behaviour with the system package manager. It is recommended to use a virtual environment instead: https://pip.pypa.io/warnings/venv\u001b[0m\u001b[33m\n",
      "\u001b[0m\n",
      "\u001b[1m[\u001b[0m\u001b[34;49mnotice\u001b[0m\u001b[1;39;49m]\u001b[0m\u001b[39;49m A new release of pip is available: \u001b[0m\u001b[31;49m23.3.2\u001b[0m\u001b[39;49m -> \u001b[0m\u001b[32;49m24.0\u001b[0m\n",
      "\u001b[1m[\u001b[0m\u001b[34;49mnotice\u001b[0m\u001b[1;39;49m]\u001b[0m\u001b[39;49m To update, run: \u001b[0m\u001b[32;49mpip install --upgrade pip\u001b[0m\n"
     ]
    }
   ],
   "source": [
    "!pip install timm\n",
    "!pip install einops\n",
    "!pip install omegaconf\n",
    "!pip install diffusers==0.24.0"
   ]
  },
  {
   "cell_type": "code",
   "execution_count": 3,
   "id": "e75eef48-e63e-4cdd-9536-6036f82d39d4",
   "metadata": {
    "execution": {
     "iopub.execute_input": "2024-03-11T07:31:20.130215Z",
     "iopub.status.busy": "2024-03-11T07:31:20.129919Z",
     "iopub.status.idle": "2024-03-11T07:36:25.093905Z",
     "shell.execute_reply": "2024-03-11T07:36:25.093335Z",
     "shell.execute_reply.started": "2024-03-11T07:31:20.130195Z"
    },
    "tags": []
   },
   "outputs": [
    {
     "name": "stdout",
     "output_type": "stream",
     "text": [
      "/mnt/workspace/Latte/models\n",
      "Updated Git hooks.\n",
      "Git LFS initialized.\n",
      "正克隆到 'Latte'...\n",
      "remote: Enumerating objects: 46, done.\u001b[K\n",
      "remote: Counting objects: 100% (46/46), done.\u001b[K\n",
      "remote: Compressing objects: 100% (43/43), done.\u001b[K\n",
      "remote: Total 46 (delta 4), reused 0 (delta 0), pack-reused 0\u001b[K\n",
      "接收对象中: 100% (46/46), 9.58 KiB | 9.58 MiB/s, 完成.\n",
      "处理 delta 中: 100% (4/4), 完成.\n",
      "过滤内容: 100% (14/14), 20.97 GiB | 70.77 MiB/s, 完成.\n"
     ]
    }
   ],
   "source": [
    "%cd models\n",
    "!git lfs install\n",
    "!git clone https://www.modelscope.cn/AI-ModelScope/Latte.git"
   ]
  },
  {
   "cell_type": "code",
   "execution_count": null,
   "id": "8df1aec72586e07f",
   "metadata": {
    "collapsed": false
   },
   "outputs": [],
   "source": [
    "# 修改配置文件configs/t2v/t2v_sample.yaml"
   ]
  },
  {
   "cell_type": "markdown",
   "id": "5c8cdb8eecdf3203",
   "metadata": {
    "collapsed": false
   },
   "source": [
    "### 修改配置文件configs/t2v/t2v_sample.yaml\n",
    "\n",
    "**path:**\n",
    "\n",
    "ckpt: ./models/Latte/t2v.pt\n",
    "\n",
    "save_img_path: \"./sample_videos/t2v\"\n",
    "\n",
    "pretrained_model_path: \"./models/Latte/t2v_required_models\""
   ]
  },
  {
   "cell_type": "code",
   "execution_count": 3,
   "id": "b29f49ab-6e3d-44e1-9b76-099400b9ad9b",
   "metadata": {
    "ExecutionIndicator": {
     "show": true
    },
    "execution": {
     "iopub.execute_input": "2024-03-11T13:49:02.644317Z",
     "iopub.status.busy": "2024-03-11T13:49:02.644011Z",
     "iopub.status.idle": "2024-03-11T13:49:02.648250Z",
     "shell.execute_reply": "2024-03-11T13:49:02.647716Z",
     "shell.execute_reply.started": "2024-03-11T13:49:02.644297Z"
    },
    "tags": []
   },
   "outputs": [
    {
     "name": "stdout",
     "output_type": "stream",
     "text": [
      "/mnt/workspace/Latte\n"
     ]
    }
   ],
   "source": [
    "%cd /mnt/workspace/Latte"
   ]
  },
  {
   "cell_type": "code",
   "execution_count": 4,
   "id": "c2f6856a-c461-4e59-8a8e-cdaa83190e0b",
   "metadata": {
    "ExecutionIndicator": {
     "show": true
    },
    "execution": {
     "iopub.execute_input": "2024-03-11T13:49:03.889202Z",
     "iopub.status.busy": "2024-03-11T13:49:03.888911Z",
     "iopub.status.idle": "2024-03-11T14:07:56.013334Z",
     "shell.execute_reply": "2024-03-11T14:07:56.012626Z",
     "shell.execute_reply.started": "2024-03-11T13:49:03.889185Z"
    },
    "tags": []
   },
   "outputs": [
    {
     "name": "stdout",
     "output_type": "stream",
     "text": [
      "2024-03-11 21:49:11.321582: I tensorflow/core/util/port.cc:111] oneDNN custom operations are on. You may see slightly different numerical results due to floating-point round-off errors from different computation orders. To turn them off, set the environment variable `TF_ENABLE_ONEDNN_OPTS=0`.\n",
      "2024-03-11 21:49:11.434118: I tensorflow/tsl/cuda/cudart_stub.cc:28] Could not find cuda drivers on your machine, GPU will not be used.\n",
      "2024-03-11 21:49:11.803478: E tensorflow/compiler/xla/stream_executor/cuda/cuda_dnn.cc:9342] Unable to register cuDNN factory: Attempting to register factory for plugin cuDNN when one has already been registered\n",
      "2024-03-11 21:49:11.803513: E tensorflow/compiler/xla/stream_executor/cuda/cuda_fft.cc:609] Unable to register cuFFT factory: Attempting to register factory for plugin cuFFT when one has already been registered\n",
      "2024-03-11 21:49:11.805683: E tensorflow/compiler/xla/stream_executor/cuda/cuda_blas.cc:1518] Unable to register cuBLAS factory: Attempting to register factory for plugin cuBLAS when one has already been registered\n",
      "2024-03-11 21:49:12.046378: I tensorflow/tsl/cuda/cudart_stub.cc:28] Could not find cuda drivers on your machine, GPU will not be used.\n",
      "2024-03-11 21:49:12.046654: I tensorflow/core/platform/cpu_feature_guard.cc:182] This TensorFlow binary is optimized to use available CPU instructions in performance-critical operations.\n",
      "To enable the following instructions: AVX2 AVX512F AVX512_VNNI FMA, in other operations, rebuild TensorFlow with the appropriate compiler flags.\n",
      "2024-03-11 21:49:13.503284: W tensorflow/compiler/tf2tensorrt/utils/py_utils.cc:38] TF-TRT Warning: Could not find TensorRT\n",
      "Using model!\n",
      "Special tokens have been added in the vocabulary, make sure the associated word embeddings are fine-tuned or trained.\n",
      "Loading checkpoint shards: 100%|██████████████████| 4/4 [00:51<00:00, 12.82s/it]\n",
      "Processing the (The sun shines through the gaps in the leaves on the sparkling water, and a red fish swims leisurely, leaving a string of ripples.) prompt\n",
      "100%|███████████████████████████████████████████| 50/50 [01:40<00:00,  2.01s/it]\n",
      "Processing the (A green fish swam out from the aquatic plants. As it moved, the aquatic plants swayed gently, making it look particularly vivid under the sunlight.) prompt\n",
      "100%|███████████████████████████████████████████| 50/50 [01:37<00:00,  1.95s/it]\n",
      "Processing the (Immedia'tely, a yellow fish swam quickly from the bottom of the water, its yellow scales shining golden in the light.) prompt\n",
      "100%|███████████████████████████████████████████| 50/50 [01:37<00:00,  1.96s/it]\n",
      "Processing the (Immediately afterwards, a mysterious black fish appeared quietly. Its figure flickered in and out of the water, as if guarding this secret place.) prompt\n",
      "100%|███████████████████████████████████████████| 50/50 [01:37<00:00,  1.96s/it]\n",
      "Processing the (Red, green, yellow and black fish began to swim around in what seemed like an elegant underwater dance.) prompt\n",
      "100%|███████████████████████████████████████████| 50/50 [01:37<00:00,  1.95s/it]\n",
      "Processing the (At this time, a group of tourists looked at the colorful fish, holding cameras and mobile phones, excitedly recording this rare sight.) prompt\n",
      "100%|███████████████████████████████████████████| 50/50 [01:37<00:00,  1.96s/it]\n",
      "Processing the (One of the little girls squatted down and reached out to try to touch the fish playing in the water, with a happy smile on her face.) prompt\n",
      "100%|███████████████████████████████████████████| 50/50 [01:37<00:00,  1.96s/it]\n",
      "Processing the (Suddenly, the red fish jumped out of the water, as if in response to the tourist, completed an elegant arc in the air, and then fell back into the water lightly.) prompt\n",
      "100%|███████████████████████████████████████████| 50/50 [01:37<00:00,  1.96s/it]\n",
      "Processing the (Other tourists cheered when they saw this, and some even tried to imitate the actions of the interactive tourist, hoping to attract the attention of the fish.) prompt\n",
      "100%|███████████████████████████████████████████| 50/50 [01:37<00:00,  1.96s/it]\n",
      "Processing the (The entire lake and the crowd watching, from the earth to the sky, are a joyful and harmonious atmosphere.) prompt\n",
      "100%|███████████████████████████████████████████| 50/50 [01:37<00:00,  1.96s/it]\n",
      "torch.Size([16, 2053, 1540, 3])\n",
      "IMAGEIO FFMPEG_WRITER WARNING: input image is not divisible by macro_block_size=16, resizing from (1540, 2053) to (1552, 2064) to ensure video compatibility with most codecs and players. To prevent resizing, make your input image divisible by the macro_block_size or set the macro_block_size to 1 (risking incompatibility).\n",
      "\u001b[1;34m[swscaler @ 0x5589580f1980] \u001b[0m\u001b[0;33mWarning: data is not aligned! This can lead to a speed loss\n",
      "\u001b[0msave path ./sample_videos9/t2v\n"
     ]
    }
   ],
   "source": [
    "!export CUDA_VISIBLE_DEVICES=0\n",
    "!export PYTHONPATH=./\n",
    "!python sample/sample_t2v.py --config configs/t2v/t2v_sample.yaml"
   ]
  },
  {
   "cell_type": "markdown",
   "id": "c58c40ea8395b26a",
   "metadata": {
    "collapsed": false
   },
   "source": [
    "### Latte 生成的视频文件路径"
   ]
  },
  {
   "cell_type": "code",
   "execution_count": 4,
   "id": "e812d022",
   "metadata": {},
   "outputs": [],
   "source": [
    "import os\n",
    "import shutil\n",
    "\n",
    "def list_dir(dir_path):\n",
    "  files = []\n",
    "  for file in os.listdir(dir_path):\n",
    "    file_path = os.path.join(dir_path, file)\n",
    "    files.append(file_path)\n",
    "  return files\n",
    "    \n",
    "\n",
    "def copy_file(src_path, dst_path, new_name):\n",
    "  shutil.copy(src_path, os.path.join(dst_path, new_name))\n",
    "\n",
    "\n",
    "def sample_video(src_dir_path, dst_dir_path):\n",
    "  str = \"webv-imageio\"\n",
    "  files = list_dir(src_dir_path)\n",
    "  for file in files:\n",
    "    if str in file:\n",
    "      filename = os.path.basename(file)\n",
    "      ext = os.path.splitext(filename)[1]\n",
    "      index = filename.split('_')[1]\n",
    "      new_name = f\"{index}.mp4\"\n",
    "      copy_file(file, dst_dir_path, new_name)"
   ]
  },
  {
   "cell_type": "code",
   "execution_count": 5,
   "id": "f90b6e1d",
   "metadata": {},
   "outputs": [],
   "source": [
    "!mkdir video_output7\n",
    "!mkdir video_output9\n",
    "\n",
    "src_dir_path = \"./Latte/sample_videos7\"\n",
    "dst_dir_path = \"./video_output7\"\n",
    "\n",
    "sample_video(src_dir_path=src_dir_path, dst_dir_path=dst_dir_path)\n",
    "\n",
    "src_dir_path = \"./Latte/sample_videos9\"\n",
    "dst_dir_path = \"./video_output9\"\n",
    "\n",
    "sample_video(src_dir_path=src_dir_path, dst_dir_path=dst_dir_path)\n"
   ]
  },
  {
   "cell_type": "code",
   "execution_count": null,
   "id": "bc6d4029e664b75d",
   "metadata": {
    "collapsed": false
   },
   "outputs": [],
   "source": [
    "# Q&A"
   ]
  },
  {
   "cell_type": "code",
   "execution_count": null,
   "id": "2e865442ccfbbdf6",
   "metadata": {
    "collapsed": false
   },
   "outputs": [],
   "source": [
    "# 如果遇到以下报错，解决方案：\n",
    "!pip uninstall apex"
   ]
  },
  {
   "cell_type": "code",
   "execution_count": null,
   "id": "af6332c7-c527-4ae3-b02e-d02fec924be6",
   "metadata": {},
   "outputs": [],
   "source": [
    "# 2024-03-11 01:04:31.181347: W tensorflow/compiler/tf2tensorrt/utils/py_utils.cc:38] TF-TRT Warning: Could not find TensorRT\n",
    "# Using model!\n",
    "# Special tokens have been added in the vocabulary, make sure the associated word embeddings are fine-tuned or trained.\n",
    "# Loading checkpoint shards: 100%|██████████████████| 4/4 [00:41<00:00, 10.39s/it]\n",
    "# Processing the (Yellow and black tropical fish dart through the sea.) prompt\n",
    "# Traceback (most recent call last):\n",
    "#   File \"/mnt/workspace/Latte/sample/sample_t2v.py\", line 161, in <module>\n",
    "#     main(OmegaConf.load(args.config))\n",
    "#   File \"/mnt/workspace/Latte/sample/sample_t2v.py\", line 130, in main\n",
    "#     videos = videogen_pipeline(prompt, \n",
    "#   File \"/opt/conda/lib/python3.10/site-packages/torch/utils/_contextlib.py\", line 115, in decorate_context\n",
    "#     return func(*args, **kwargs)\n",
    "#   File \"/mnt/workspace/Latte/sample/pipeline_videogen.py\", line 638, in __call__\n",
    "#     prompt_embeds, negative_prompt_embeds = self.encode_prompt(\n",
    "#   File \"/mnt/workspace/Latte/sample/pipeline_videogen.py\", line 207, in encode_prompt\n",
    "#     prompt_embeds = self.text_encoder(text_input_ids.to(device), attention_mask=attention_mask)\n",
    "#   File \"/opt/conda/lib/python3.10/site-packages/torch/nn/modules/module.py\", line 1518, in _wrapped_call_impl\n",
    "#     return self._call_impl(*args, **kwargs)\n",
    "#   File \"/opt/conda/lib/python3.10/site-packages/torch/nn/modules/module.py\", line 1527, in _call_impl\n",
    "#     return forward_call(*args, **kwargs)\n",
    "#   File \"/opt/conda/lib/python3.10/site-packages/transformers/models/t5/modeling_t5.py\", line 1975, in forward\n",
    "#     encoder_outputs = self.encoder(\n",
    "#   File \"/opt/conda/lib/python3.10/site-packages/torch/nn/modules/module.py\", line 1518, in _wrapped_call_impl\n",
    "#     return self._call_impl(*args, **kwargs)\n",
    "#   File \"/opt/conda/lib/python3.10/site-packages/torch/nn/modules/module.py\", line 1527, in _call_impl\n",
    "#     return forward_call(*args, **kwargs)\n",
    "#   File \"/opt/conda/lib/python3.10/site-packages/transformers/models/t5/modeling_t5.py\", line 1110, in forward\n",
    "#     layer_outputs = layer_module(\n",
    "#   File \"/opt/conda/lib/python3.10/site-packages/torch/nn/modules/module.py\", line 1518, in _wrapped_call_impl\n",
    "#     return self._call_impl(*args, **kwargs)\n",
    "#   File \"/opt/conda/lib/python3.10/site-packages/torch/nn/modules/module.py\", line 1527, in _call_impl\n",
    "#     return forward_call(*args, **kwargs)\n",
    "#   File \"/opt/conda/lib/python3.10/site-packages/transformers/models/t5/modeling_t5.py\", line 694, in forward\n",
    "#     self_attention_outputs = self.layer[0](\n",
    "#   File \"/opt/conda/lib/python3.10/site-packages/torch/nn/modules/module.py\", line 1518, in _wrapped_call_impl\n",
    "#     return self._call_impl(*args, **kwargs)\n",
    "#   File \"/opt/conda/lib/python3.10/site-packages/torch/nn/modules/module.py\", line 1527, in _call_impl\n",
    "#     return forward_call(*args, **kwargs)\n",
    "#   File \"/opt/conda/lib/python3.10/site-packages/transformers/models/t5/modeling_t5.py\", line 600, in forward\n",
    "#     normed_hidden_states = self.layer_norm(hidden_states)\n",
    "#   File \"/opt/conda/lib/python3.10/site-packages/torch/nn/modules/module.py\", line 1518, in _wrapped_call_impl\n",
    "#     return self._call_impl(*args, **kwargs)\n",
    "#   File \"/opt/conda/lib/python3.10/site-packages/torch/nn/modules/module.py\", line 1527, in _call_impl\n",
    "#     return forward_call(*args, **kwargs)\n",
    "#   File \"/opt/conda/lib/python3.10/site-packages/apex/normalization/fused_layer_norm.py\", line 386, in forward\n",
    "#     return fused_rms_norm_affine(input, self.weight, self.normalized_shape, self.eps)\n",
    "#   File \"/opt/conda/lib/python3.10/site-packages/apex/normalization/fused_layer_norm.py\", line 189, in fused_rms_norm_affine\n",
    "#     return FusedRMSNormAffineFunction.apply(*args)\n",
    "#   File \"/opt/conda/lib/python3.10/site-packages/torch/autograd/function.py\", line 539, in apply\n",
    "#     return super().apply(*args, **kwargs)  # type: ignore[misc]\n",
    "#   File \"/opt/conda/lib/python3.10/site-packages/apex/normalization/fused_layer_norm.py\", line 69, in forward\n",
    "#     output, invvar = fused_layer_norm_cuda.rms_forward_affine(\n",
    "# RuntimeError: expected scalar type Float but found Half"
   ]
  }
 ],
 "metadata": {
  "kernelspec": {
   "display_name": "Python 3 (ipykernel)",
   "language": "python",
   "name": "python3"
  },
  "language_info": {
   "codemirror_mode": {
    "name": "ipython",
    "version": 3
   },
   "file_extension": ".py",
   "mimetype": "text/x-python",
   "name": "python",
   "nbconvert_exporter": "python",
   "pygments_lexer": "ipython3",
   "version": "3.11.7"
  }
 },
 "nbformat": 4,
 "nbformat_minor": 5
}
